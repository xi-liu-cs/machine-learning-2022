{
 "cells": [
  {
   "cell_type": "markdown",
   "metadata": {
    "tags": []
   },
   "source": [
    "# Homework 2: Linear Regression\n",
    "\n",
    "The is the coding potion of Homework 2. The homework is aimed at testing the ability to deal with a real-world dataset and use linear regression on it."
   ]
  },
  {
   "cell_type": "code",
   "execution_count": 1,
   "metadata": {},
   "outputs": [],
   "source": [
    "import numpy as np\n",
    "import pandas as pd\n",
    "\n",
    "# Plotting libraries\n",
    "import matplotlib.pyplot as plt\n",
    "import seaborn as sns\n",
    "\n",
    "%matplotlib inline"
   ]
  },
  {
   "cell_type": "markdown",
   "metadata": {},
   "source": [
    "### Load Dataset\n",
    "Loading the California Housing dataset using sklearn."
   ]
  },
  {
   "cell_type": "code",
   "execution_count": 2,
   "metadata": {},
   "outputs": [],
   "source": [
    "# Load dataset\n",
    "from sklearn.datasets import fetch_california_housing\n",
    "housing = fetch_california_housing()"
   ]
  },
  {
   "cell_type": "markdown",
   "metadata": {},
   "source": [
    "## Part 1 : Analyse the dataset"
   ]
  },
  {
   "cell_type": "code",
   "execution_count": 3,
   "metadata": {},
   "outputs": [
    {
     "data": {
      "text/html": [
       "<div>\n",
       "<style scoped>\n",
       "    .dataframe tbody tr th:only-of-type {\n",
       "        vertical-align: middle;\n",
       "    }\n",
       "\n",
       "    .dataframe tbody tr th {\n",
       "        vertical-align: top;\n",
       "    }\n",
       "\n",
       "    .dataframe thead th {\n",
       "        text-align: right;\n",
       "    }\n",
       "</style>\n",
       "<table border=\"1\" class=\"dataframe\">\n",
       "  <thead>\n",
       "    <tr style=\"text-align: right;\">\n",
       "      <th></th>\n",
       "      <th>MedInc</th>\n",
       "      <th>HouseAge</th>\n",
       "      <th>AveRooms</th>\n",
       "      <th>AveBedrms</th>\n",
       "      <th>Population</th>\n",
       "      <th>AveOccup</th>\n",
       "      <th>Latitude</th>\n",
       "      <th>Longitude</th>\n",
       "      <th>target</th>\n",
       "    </tr>\n",
       "  </thead>\n",
       "  <tbody>\n",
       "    <tr>\n",
       "      <th>0</th>\n",
       "      <td>8.3252</td>\n",
       "      <td>41.0</td>\n",
       "      <td>6.984127</td>\n",
       "      <td>1.023810</td>\n",
       "      <td>322.0</td>\n",
       "      <td>2.555556</td>\n",
       "      <td>37.88</td>\n",
       "      <td>-122.23</td>\n",
       "      <td>4.526</td>\n",
       "    </tr>\n",
       "    <tr>\n",
       "      <th>1</th>\n",
       "      <td>8.3014</td>\n",
       "      <td>21.0</td>\n",
       "      <td>6.238137</td>\n",
       "      <td>0.971880</td>\n",
       "      <td>2401.0</td>\n",
       "      <td>2.109842</td>\n",
       "      <td>37.86</td>\n",
       "      <td>-122.22</td>\n",
       "      <td>3.585</td>\n",
       "    </tr>\n",
       "    <tr>\n",
       "      <th>2</th>\n",
       "      <td>7.2574</td>\n",
       "      <td>52.0</td>\n",
       "      <td>8.288136</td>\n",
       "      <td>1.073446</td>\n",
       "      <td>496.0</td>\n",
       "      <td>2.802260</td>\n",
       "      <td>37.85</td>\n",
       "      <td>-122.24</td>\n",
       "      <td>3.521</td>\n",
       "    </tr>\n",
       "    <tr>\n",
       "      <th>3</th>\n",
       "      <td>5.6431</td>\n",
       "      <td>52.0</td>\n",
       "      <td>5.817352</td>\n",
       "      <td>1.073059</td>\n",
       "      <td>558.0</td>\n",
       "      <td>2.547945</td>\n",
       "      <td>37.85</td>\n",
       "      <td>-122.25</td>\n",
       "      <td>3.413</td>\n",
       "    </tr>\n",
       "    <tr>\n",
       "      <th>4</th>\n",
       "      <td>3.8462</td>\n",
       "      <td>52.0</td>\n",
       "      <td>6.281853</td>\n",
       "      <td>1.081081</td>\n",
       "      <td>565.0</td>\n",
       "      <td>2.181467</td>\n",
       "      <td>37.85</td>\n",
       "      <td>-122.25</td>\n",
       "      <td>3.422</td>\n",
       "    </tr>\n",
       "  </tbody>\n",
       "</table>\n",
       "</div>"
      ],
      "text/plain": [
       "   MedInc  HouseAge  AveRooms  AveBedrms  Population  AveOccup  Latitude  \\\n",
       "0  8.3252      41.0  6.984127   1.023810       322.0  2.555556     37.88   \n",
       "1  8.3014      21.0  6.238137   0.971880      2401.0  2.109842     37.86   \n",
       "2  7.2574      52.0  8.288136   1.073446       496.0  2.802260     37.85   \n",
       "3  5.6431      52.0  5.817352   1.073059       558.0  2.547945     37.85   \n",
       "4  3.8462      52.0  6.281853   1.081081       565.0  2.181467     37.85   \n",
       "\n",
       "   Longitude  target  \n",
       "0    -122.23   4.526  \n",
       "1    -122.22   3.585  \n",
       "2    -122.24   3.521  \n",
       "3    -122.25   3.413  \n",
       "4    -122.25   3.422  "
      ]
     },
     "execution_count": 3,
     "metadata": {},
     "output_type": "execute_result"
    }
   ],
   "source": [
    "# Put the dataset along with the target variable in a pandas dataframe\n",
    "data = pd.DataFrame(housing.data, columns=housing.feature_names)\n",
    "# Add target to data\n",
    "data['target'] = housing['target']\n",
    "data.head()"
   ]
  },
  {
   "cell_type": "markdown",
   "metadata": {},
   "source": [
    "### Part 1a : Check for missing values in the dataset\n",
    "\n",
    "The dataset might have missing values represented by a `NaN`. Check if the dataset has such missing values."
   ]
  },
  {
   "cell_type": "code",
   "execution_count": 4,
   "metadata": {
    "deletable": false,
    "nbgrader": {
     "cell_type": "code",
     "checksum": "676197ad93aa1aa19b1e3898da4c017c",
     "grade": false,
     "grade_id": "p1a",
     "locked": false,
     "schema_version": 3,
     "solution": true,
     "task": false
    },
    "tags": []
   },
   "outputs": [],
   "source": [
    "# Check for missing values\n",
    "from cmath import nan\n",
    "import math\n",
    "\n",
    "def is_null(dataframe):\n",
    "    \"\"\"\n",
    "    This function takes as input a pandas dataframe and outputs whether the\n",
    "    dataframe has missing values. Missing values can be detected by checking\n",
    "    for the presence of None or NaN. inf or -inf must also be treated as a missing value.\n",
    "\n",
    "    Input:\n",
    "        dataframe: Pandas dataframe\n",
    "    Output:\n",
    "        Return True is there are missing value in the dataframe. If not, return False.\n",
    "    \"\"\"\n",
    "    # YOUR CODE HERE\n",
    "    \"\"\"\n",
    "    df = dataframe\n",
    "    row, col = df.shape[0], df.shape[1]\n",
    "    for i in range(row):\n",
    "        for j in range(col):\n",
    "            val = df.iloc[i][j]\n",
    "            if val == None or val == nan or val == math.inf or val == -math.inf:\n",
    "                return True\n",
    "    return False\n",
    "    /* above approach take more time */\n",
    "    \"\"\"\n",
    "    a = dataframe.to_numpy()\n",
    "    row, col = a.shape[0], a.shape[1]\n",
    "    for i in range(row):\n",
    "        for j in range(col):\n",
    "            val = a[i][j]\n",
    "            if val == None or val == nan or val == math.inf or val == -math.inf:\n",
    "                return True\n",
    "    return False"
   ]
  },
  {
   "cell_type": "code",
   "execution_count": 5,
   "metadata": {
    "deletable": false,
    "editable": false,
    "nbgrader": {
     "cell_type": "code",
     "checksum": "b933622008a9e4a077e1b2a8c239554e",
     "grade": true,
     "grade_id": "p1a-test",
     "locked": true,
     "points": 1,
     "schema_version": 3,
     "solution": false,
     "task": false
    },
    "tags": []
   },
   "outputs": [
    {
     "name": "stdout",
     "output_type": "stream",
     "text": [
      "The data has no missing values.\n"
     ]
    }
   ],
   "source": [
    "# === DO NOT MOVE/DELETE ===\n",
    "# This cell is used as a placeholder for autograder script injection.\n",
    "\n",
    "# This dataset has no null values; you can run this cell as a sanity check.\n",
    "print(f\"The data has{'' if is_null(data) else ' no'} missing values.\")\n",
    "assert not is_null(data)"
   ]
  },
  {
   "cell_type": "markdown",
   "metadata": {
    "tags": []
   },
   "source": [
    "### Part 1b: Studying the distribution of the target variable\n",
    "\n",
    "Plot the histogram of the target variable over a fixed number of bins (say, 30).\n",
    "\n",
    "Example histogram output:\n",
    "\n",
    "![Target histogram](https://jeffcui.com/misc/target_histogram.png)\n",
    "\n",
    "Hint: Use the histogram plotting function available in Seaborn in Matplotlib."
   ]
  },
  {
   "cell_type": "code",
   "execution_count": 6,
   "metadata": {
    "deletable": false,
    "nbgrader": {
     "cell_type": "code",
     "checksum": "b8d012221610349c7d2434b577a4ce32",
     "grade": true,
     "grade_id": "p1b",
     "locked": false,
     "points": 1,
     "schema_version": 3,
     "solution": true,
     "task": false
    },
    "tags": []
   },
   "outputs": [
    {
     "data": {
      "image/png": "[encoded data removed]",
      "text/plain": [
       "<Figure size 640x480 with 1 Axes>"
      ]
     },
     "metadata": {},
     "output_type": "display_data"
    }
   ],
   "source": [
    "# Plot histogram of target variable\n",
    "\n",
    "# YOUR CODE HERE\n",
    "sns.histplot(data = data, x = 'target', bins = 30)\n",
    "plt.show()"
   ]
  },
  {
   "cell_type": "markdown",
   "metadata": {},
   "source": [
    "### Part 1c: Plotting the correlation matrix\n",
    "Given the dataset stored in the `data` variable, plot the correlation matrix for the dataset. The dataset has 9 variables (8 features and one target variable) and thus, the correlation matrix must have a size of `9x9`.\n",
    "\n",
    "Hint: You may use the correlation matrix computation of a dataset provided by the `pandas` library.\n",
    "\n",
    "Link: [What is a correlation matrix?](https://www.displayr.com/what-is-a-correlation-matrix/)"
   ]
  },
  {
   "cell_type": "code",
   "execution_count": 7,
   "metadata": {
    "deletable": false,
    "nbgrader": {
     "cell_type": "code",
     "checksum": "b083172c548f71f3f9515e487a868fa1",
     "grade": false,
     "grade_id": "p1c",
     "locked": false,
     "schema_version": 3,
     "solution": true,
     "task": false
    },
    "tags": []
   },
   "outputs": [
    {
     "data": {
      "text/plain": [
       "<AxesSubplot: >"
      ]
     },
     "execution_count": 7,
     "metadata": {},
     "output_type": "execute_result"
    },
    {
     "data": {
      "image/png": "[encoded data removed]",
      "text/plain": [
       "<Figure size 640x480 with 2 Axes>"
      ]
     },
     "metadata": {},
     "output_type": "display_data"
    }
   ],
   "source": [
    "# Correlation matrix\n",
    "def get_correlation_matrix(dataframe):\n",
    "    \"\"\"\n",
    "    Given a pandas dataframe, obtain the correlation matrix\n",
    "    computing the correlation between the entities in the dataset.\n",
    "\n",
    "    Input:\n",
    "        dataframe: Pandas dataframe\n",
    "    Output:\n",
    "        Return the correlation matrix as a pandas dataframe, rounded off to 2 decimal places.\n",
    "    \"\"\"\n",
    "    # YOUR CODE HERE\n",
    "    return dataframe.corr().round(2)\n",
    "\n",
    "# Plot the correlation matrix\n",
    "correlation_matrix = get_correlation_matrix(data)\n",
    "# annot = True to print the values inside the square\n",
    "sns.heatmap(data=correlation_matrix, annot=True)"
   ]
  },
  {
   "cell_type": "code",
   "execution_count": 8,
   "metadata": {
    "deletable": false,
    "editable": false,
    "nbgrader": {
     "cell_type": "code",
     "checksum": "deeb1bce3582f0d0f8ac169145d4838f",
     "grade": true,
     "grade_id": "p1c-test",
     "locked": true,
     "points": 1,
     "schema_version": 3,
     "solution": false,
     "task": false
    },
    "tags": []
   },
   "outputs": [],
   "source": [
    "# === DO NOT MOVE/DELETE ===\n",
    "# This cell is used as a placeholder for autograder script injection.\n",
    "\n",
    "# You can check your output against the expected correlation matrix below:\n",
    "ground_truth = np.array([\n",
    "    [1.0, -0.12, 0.33, -0.06, 0.0, 0.02, -0.08, -0.02, 0.69],\n",
    "    [-0.12, 1.0, -0.15, -0.08, -0.3, 0.01, 0.01, -0.11, 0.11],\n",
    "    [0.33, -0.15, 1.0, 0.85, -0.07, 0.0, 0.11, -0.03, 0.15],\n",
    "    [-0.06, -0.08, 0.85, 1.0, -0.07, -0.01, 0.07, 0.01, -0.05],\n",
    "    [0.0, -0.3, -0.07, -0.07, 1.0, 0.07, -0.11, 0.1, -0.02],\n",
    "    [0.02, 0.01, 0.0, -0.01, 0.07, 1.0, 0.0, 0.0, -0.02],\n",
    "    [-0.08, 0.01, 0.11, 0.07, -0.11, 0.0, 1.0, -0.92, -0.14],\n",
    "    [-0.02, -0.11, -0.03, 0.01, 0.1, 0.0, -0.92, 1.0, -0.05],\n",
    "    [0.69, 0.11, 0.15, -0.05, -0.02, -0.02, -0.14, -0.05, 1.0],\n",
    "])\n",
    "assert np.allclose(ground_truth, get_correlation_matrix(data).to_numpy(), rtol=1e-2, atol=1e-2)"
   ]
  },
  {
   "cell_type": "markdown",
   "metadata": {},
   "source": [
    "### Part 1d: Extracting relevant variables\n",
    "\n",
    "Based on the correlation matrix obtained in the previous part, identify the top-4 most relevant features from the dataset for predicting the target variable."
   ]
  },
  {
   "cell_type": "markdown",
   "metadata": {},
   "source": [
    "- MedInc 0.69\n",
    "- AveRooms 0.15\n",
    "- Latitude -0.14\n",
    "- HouseAge 0.11"
   ]
  },
  {
   "cell_type": "markdown",
   "metadata": {},
   "source": [
    "## Part 2: Data Manipulation\n",
    "\n",
    "This section is focused on arranging the dataset in a format suitable for training the linear regression model."
   ]
  },
  {
   "cell_type": "markdown",
   "metadata": {},
   "source": [
    "### Part 2a: Normalize the dataset\n",
    "\n",
    "Find the mean and standard deviation corresponding to each feature and target variable in the dataset. Use the values of the mean and standard deviation to normalize the dataset."
   ]
  },
  {
   "cell_type": "code",
   "execution_count": 9,
   "metadata": {
    "deletable": false,
    "nbgrader": {
     "cell_type": "code",
     "checksum": "71860eb9c74a47052a1d855b229b0083",
     "grade": false,
     "grade_id": "p2a",
     "locked": false,
     "schema_version": 3,
     "solution": true,
     "task": false
    },
    "tags": []
   },
   "outputs": [],
   "source": [
    "features = np.concatenate([data[name].to_numpy()[:, None] for name in housing['feature_names']], axis=1)\n",
    "target = housing['target']\n",
    "\n",
    "# Normalize data\n",
    "def normalize(features, target):\n",
    "    # YOUR CODE HERE\n",
    "    f = features\n",
    "    f_row, f_col = f.shape[0], f.shape[1]\n",
    "    f_mean = f.mean(axis = 0)\n",
    "    f_std = f.std(axis = 0)\n",
    "    for j in range(f_col):\n",
    "        for i in range(f_row):\n",
    "            f[i][j] -= f_mean[j]\n",
    "            f[i][j] /= f_std[j]\n",
    "    t = target\n",
    "    t_mean = t.mean(axis = 0)\n",
    "    t_std = t.std(axis = 0)\n",
    "    t_n = t.shape[0]\n",
    "    for i in range(t_n):\n",
    "        t[i] -= t_mean\n",
    "        t[i] /= t_std\n",
    "    return f, t\n",
    "\n",
    "features_normalized, target_normalized = normalize(features, target)"
   ]
  },
  {
   "cell_type": "code",
   "execution_count": 10,
   "metadata": {
    "deletable": false,
    "editable": false,
    "nbgrader": {
     "cell_type": "code",
     "checksum": "6cd6918ed1d597848bbd2c42e3eee9de",
     "grade": true,
     "grade_id": "p2a-test",
     "locked": true,
     "points": 1,
     "schema_version": 3,
     "solution": false,
     "task": false
    },
    "tags": []
   },
   "outputs": [],
   "source": [
    "# === DO NOT MOVE/DELETE ===\n",
    "# This cell is used as a placeholder for autograder script injection.\n",
    "assert all(np.abs(features_normalized.mean(axis=0)) < 1e-2), \"Mean should be close to 0\"\n",
    "assert all(np.abs(features_normalized.std(axis=0) - 1) < 1e-2), \"Standard deviation should be close to 1\"\n",
    "assert np.abs(target_normalized.mean(axis=0)) < 1e-2, \"Mean should be close to 0\"\n",
    "assert np.abs(target_normalized.std(axis=0) - 1) < 1e-2, \"Standard deviation should be close to 1\""
   ]
  },
  {
   "cell_type": "markdown",
   "metadata": {},
   "source": [
    "### Part 2b: Train-Test Split\n",
    "\n",
    "Use the train-test split function from `sklearn` and execute a 80-20 train-test split of the dataset."
   ]
  },
  {
   "cell_type": "code",
   "execution_count": 11,
   "metadata": {
    "deletable": false,
    "nbgrader": {
     "cell_type": "code",
     "checksum": "e24ac49c957cd3d0a2b12fe65992c0da",
     "grade": false,
     "grade_id": "p2b",
     "locked": false,
     "schema_version": 3,
     "solution": true,
     "task": false
    },
    "tags": []
   },
   "outputs": [],
   "source": [
    "# YOUR CODE HERE\n",
    "from sklearn.model_selection import train_test_split\n",
    "X_train, X_test, Y_train, Y_test = train_test_split(features, target, train_size = 0.8, test_size = 0.2)"
   ]
  },
  {
   "cell_type": "code",
   "execution_count": 12,
   "metadata": {
    "deletable": false,
    "editable": false,
    "nbgrader": {
     "cell_type": "code",
     "checksum": "6205e4ce42238093a9f51eca8c65f5a7",
     "grade": true,
     "grade_id": "p2b-test",
     "locked": true,
     "points": 1,
     "schema_version": 3,
     "solution": false,
     "task": false
    },
    "tags": []
   },
   "outputs": [
    {
     "name": "stdout",
     "output_type": "stream",
     "text": [
      "(16512, 8)\n",
      "(4128, 8)\n",
      "(16512,)\n",
      "(4128,)\n"
     ]
    }
   ],
   "source": [
    "# === DO NOT MOVE/DELETE ===\n",
    "# This cell is used as a placeholder for autograder script injection.\n",
    "\n",
    "# Sanity checking:\n",
    "print(X_train.shape)\n",
    "print(X_test.shape)\n",
    "print(Y_train.shape)\n",
    "print(Y_test.shape)"
   ]
  },
  {
   "cell_type": "markdown",
   "metadata": {},
   "source": [
    "## Part 3: Linear Regression\n",
    "\n",
    "In this part, a linear regression model is used to fit the dataset loaded and normalized above."
   ]
  },
  {
   "cell_type": "markdown",
   "metadata": {},
   "source": [
    "### Part 3a: Code for Linear Regression\n",
    "Implement a closed-form solution for ordinary least squares linear regression in `MyLinearRegression`, and print out the RMSE and $R^2$ between the ground truth and the model prediction."
   ]
  },
  {
   "cell_type": "code",
   "execution_count": 13,
   "metadata": {
    "deletable": false,
    "nbgrader": {
     "cell_type": "code",
     "checksum": "874d0e119337f0c28ef1696777ff83f9",
     "grade": true,
     "grade_id": "p3a",
     "locked": false,
     "points": 1,
     "schema_version": 3,
     "solution": true,
     "task": false
    },
    "tags": []
   },
   "outputs": [],
   "source": [
    "class MyLinearRegression:\n",
    "    def __init__(self):\n",
    "        self.theta = None\n",
    "    \n",
    "    def fit(self, X, Y):\n",
    "        # Given X and Y, compute theta using the closed-form solution for linear regression.\n",
    "        # YOUR CODE HERE\n",
    "        x, y = X.copy(), Y.copy()\n",
    "        n = x.shape[0]\n",
    "        for i in range(n):\n",
    "            np.insert(x, 0, 1)\n",
    "        y = y.reshape(n, 1)\n",
    "        theta = np.dot(np.linalg.inv(np.dot(x.T, x)), np.dot(x.T, y))\n",
    "        self.theta = theta\n",
    "        return theta\n",
    "    \n",
    "    def predict(self, X):\n",
    "        # Predict Y for a given X\n",
    "        # YOUR CODE HERE\n",
    "        x = X.copy()\n",
    "        n = x.shape[0]\n",
    "        for i in range(n):\n",
    "            np.insert(x, 0, 1)\n",
    "        return np.dot(x, self.theta)"
   ]
  },
  {
   "cell_type": "code",
   "execution_count": 14,
   "metadata": {},
   "outputs": [
    {
     "data": {
      "text/plain": [
       "array([[ 0.7117815 ],\n",
       "       [ 0.1004027 ],\n",
       "       [-0.22318309],\n",
       "       [ 0.25076373],\n",
       "       [-0.00633857],\n",
       "       [-0.03521465],\n",
       "       [-0.78670989],\n",
       "       [-0.75885015]])"
      ]
     },
     "execution_count": 14,
     "metadata": {},
     "output_type": "execute_result"
    }
   ],
   "source": [
    "# Train the model on (X_train, Y_train) using Linear Regression \n",
    "my_model = MyLinearRegression()\n",
    "my_model.fit(X_train, Y_train)"
   ]
  },
  {
   "cell_type": "code",
   "execution_count": 15,
   "metadata": {},
   "outputs": [
    {
     "name": "stdout",
     "output_type": "stream",
     "text": [
      "The model performance for training set\n",
      "--------------------------------------\n",
      "RMSE is 0.6325044657028708\n",
      "R2 score is 0.6025201701530978\n",
      "\n",
      "\n",
      "The model performance for testing set\n",
      "--------------------------------------\n",
      "RMSE is 0.6075172000467761\n",
      "R2 score is 0.6210767139577711\n"
     ]
    }
   ],
   "source": [
    "from sklearn.metrics import mean_squared_error, r2_score\n",
    "\n",
    "# Compute train RMSE using (X_train, Y_train)\n",
    "y_train_predict = my_model.predict(X_train)\n",
    "train_rmse = (np.sqrt(mean_squared_error(Y_train, y_train_predict)))\n",
    "train_r2 = r2_score(Y_train, y_train_predict)\n",
    "print(\"The model performance for training set\")\n",
    "print(\"--------------------------------------\")\n",
    "print('RMSE is {}'.format(train_rmse))\n",
    "print('R2 score is {}'.format(train_r2))\n",
    "print(\"\\n\")\n",
    "\n",
    "# Compute test RMSE using (X_test, Y_test)\n",
    "y_test_predict = my_model.predict(X_test)\n",
    "test_rmse = (np.sqrt(mean_squared_error(Y_test, y_test_predict)))\n",
    "test_r2 = r2_score(Y_test, y_test_predict)\n",
    "print(\"The model performance for testing set\")\n",
    "print(\"--------------------------------------\")\n",
    "print('RMSE is {}'.format(test_rmse))\n",
    "print('R2 score is {}'.format(test_r2))"
   ]
  },
  {
   "cell_type": "markdown",
   "metadata": {},
   "source": [
    "### Part 3b: Compare with LinearRegression from sklearn.linear_model\n",
    "\n",
    "Use LinearRegression from the `sklearn` package to fit the dataset and compare the results obtained with your own implementaion of Linear Regression.\n",
    "\n",
    "The linear regressor should be named `model` for the cells below to run properly."
   ]
  },
  {
   "cell_type": "code",
   "execution_count": 16,
   "metadata": {
    "deletable": false,
    "nbgrader": {
     "cell_type": "code",
     "checksum": "2625c21f986f722c490d8fd6a3299db8",
     "grade": true,
     "grade_id": "p3b",
     "locked": false,
     "points": 1,
     "schema_version": 3,
     "solution": true,
     "task": false
    },
    "tags": []
   },
   "outputs": [],
   "source": [
    "# YOUR CODE HERE\n",
    "from sklearn.linear_model import LinearRegression\n",
    "model = LinearRegression().fit(X_train, Y_train)"
   ]
  },
  {
   "cell_type": "code",
   "execution_count": 17,
   "metadata": {},
   "outputs": [
    {
     "name": "stdout",
     "output_type": "stream",
     "text": [
      "The model performance for training set\n",
      "--------------------------------------\n",
      "RMSE is 0.6325040644245501\n",
      "R2 score is 0.6025206744973252\n",
      "\n",
      "\n",
      "The model performance for testing set\n",
      "--------------------------------------\n",
      "RMSE is 0.6075208338489084\n",
      "R2 score is 0.6210721809622849\n"
     ]
    }
   ],
   "source": [
    "# model evaluation for training set\n",
    "y_train_predict = model.predict(X_train)\n",
    "sklearn_train_rmse = (np.sqrt(mean_squared_error(Y_train, y_train_predict)))\n",
    "sklearn_train_r2 = r2_score(Y_train, y_train_predict)\n",
    "\n",
    "print(\"The model performance for training set\")\n",
    "print(\"--------------------------------------\")\n",
    "print('RMSE is {}'.format(sklearn_train_rmse))\n",
    "print('R2 score is {}'.format(sklearn_train_r2))\n",
    "print(\"\\n\")\n",
    "\n",
    "# model evaluation for testing set\n",
    "y_test_predict = model.predict(X_test)\n",
    "sklearn_test_rmse = (np.sqrt(mean_squared_error(Y_test, y_test_predict)))\n",
    "sklearn_test_r2 = r2_score(Y_test, y_test_predict)\n",
    "\n",
    "print(\"The model performance for testing set\")\n",
    "print(\"--------------------------------------\")\n",
    "print('RMSE is {}'.format(sklearn_test_rmse))\n",
    "print('R2 score is {}'.format(sklearn_test_r2))"
   ]
  },
  {
   "cell_type": "markdown",
   "metadata": {},
   "source": [
    "### Part 3c: Analysis Linear Regression Performance\n",
    "\n",
    "In this section, provide the observed difference in performance along with an explanation of the following:\n",
    "- Difference between training between unnormalized and normalized data.\n",
    "- Difference between training on all features versus training on the top-5 most relevant features in the dataset.\n",
    "- Difference between (1) training on all features (unnormalized), (2) training on top-4 unnormalized features, and (3) training on top-4 normalized features.\n",
    "\n",
    "Write your answer below."
   ]
  },
  {
   "cell_type": "markdown",
   "metadata": {},
   "source": [
    "1. difference between training between unnormalized and normalized data\n",
    "* unnormalized\n",
    "    * MyLinearRegression\n",
    "        ```\n",
    "        The model performance for training set\n",
    "        --------------------------------------\n",
    "        RMSE is 0.6274399780727136\n",
    "        R2 score is 0.6013605474516523\n",
    "\n",
    "\n",
    "        The model performance for testing set\n",
    "        --------------------------------------\n",
    "        RMSE is 0.6279718583023217\n",
    "        R2 score is 0.6240449680621314\n",
    "        ```\n",
    "    * LinearRegression from sklearn\n",
    "        ``` \n",
    "        The model performance for training set\n",
    "        --------------------------------------\n",
    "        RMSE is 0.6274385393991952\n",
    "        R2 score is 0.6013623755511879\n",
    "\n",
    "\n",
    "        The model performance for testing set\n",
    "        --------------------------------------\n",
    "        RMSE is 0.6279848916905705\n",
    "        R2 score is 0.6240293622075719\n",
    "        ```\n",
    "* normalized\n",
    "    * MyLinearRegression\n",
    "        ```\n",
    "        The model performance for training set\n",
    "        --------------------------------------\n",
    "        RMSE is 0.6237806987205472\n",
    "        R2 score is 0.6076515191842307\n",
    "\n",
    "\n",
    "        The model performance for testing set\n",
    "        --------------------------------------\n",
    "        RMSE is 0.6423536906994114\n",
    "        R2 score is 0.6003918327239364\n",
    "        ```\n",
    "    * LinearRegression from sklearn\n",
    "        ```\n",
    "        The model performance for training set\n",
    "        --------------------------------------\n",
    "        RMSE is 0.6237719044889968\n",
    "        R2 score is 0.6076625819794517\n",
    "\n",
    "\n",
    "        The model performance for testing set\n",
    "        --------------------------------------\n",
    "        RMSE is 0.6424306441226655\n",
    "        R2 score is 0.6002960815548773\n",
    "        ```\n",
    "* observation: \n",
    "    * training set:  \n",
    "        * unnormalized data: RMSE $\\approx$ 0.62744, normalized data: RMSE $\\approx$ 0.62378, normalized data's RMSE seem to be lower,\n",
    "        difference $\\approx$ 0.62744 - 0.62378 = 0.00366\n",
    "        * unnormalized data: R2 score $\\approx$ 0.60136, normalized data: R2 score $\\approx$ 0.60765, unnormalized data's R2 score seem to be lower,\n",
    "        difference $\\approx$ 0.60765 - 0.60136 = 0.00629\n",
    "    * testing set:\n",
    "        * unnormalized data: RMSE $\\approx$ 0.62797, normalized data: RMSE $\\approx$ 0.64235, unnormalized data's RMSE seem to be lower,\n",
    "        difference $\\approx$ 0.64235 - 0.62797 = 0.01438\n",
    "        * unnormalized data: R2 score $\\approx$ 0.62404, normalized data: R2 score $\\approx$ 0.60039, normalized data's R2 score seem to be lower,\n",
    "        difference $\\approx$ 0.62404 - 0.60039 = 0.02365\n",
    "* using X_train, X_test, Y_train, Y_test = train_test_split(features_normalized, target_normalized, train_size = 0.8, test_size = 0.2)\n",
    "\n",
    "\n",
    "2. difference between training on all features versus training on the top-5 most relevant features in the dataset\n",
    "* 'MedInc', 'AveRooms', 'Latitude', 'HouseAge', 'AveBedrms' are top-5 features\n",
    "* training on all features\n",
    "    ```\n",
    "    The model performance for training set\n",
    "    --------------------------------------\n",
    "    RMSE is 0.6274385393991952\n",
    "    R2 score is 0.6013623755511879\n",
    "\n",
    "\n",
    "    The model performance for testing set\n",
    "    --------------------------------------\n",
    "    RMSE is 0.6279848916905705\n",
    "    R2 score is 0.6240293622075719\n",
    "    ```\n",
    "* training on top-5 features\n",
    "    ```\n",
    "    The model performance for training set\n",
    "    --------------------------------------\n",
    "    RMSE is 0.6762907486003943\n",
    "    R2 score is 0.5446199489263248\n",
    "\n",
    "\n",
    "    The model performance for testing set\n",
    "    --------------------------------------\n",
    "    RMSE is 0.6835121965605816\n",
    "    R2 score is 0.5242661206644932\n",
    "    ```\n",
    "* observation\n",
    "* training set:\n",
    "    all features: RMSE $\\approx$ 0.62744, top-5 features: RMSE $\\approx$ 0.67629, top-5 features's RMSE seem to be higher, difference $\\approx$ 0.67629 - 0.62744 = 0.04885\n",
    "    all features: R2 score $\\approx$ 0.60136, top-5 features: R2 score $\\approx$ 0.54462, all features's R2 score seem to be higher, difference $\\approx$ 0.60136 - 0.54462 = 0.05674\n",
    "* using features = np.concatenate([data[name].to_numpy()[:, None] for name in ['MedInc', 'AveRooms', 'Latitude', 'HouseAge', 'AveBedrms']], axis = 1)\n",
    "\n",
    "\n",
    "3. difference between (1) training on all features (unnormalized), (2) training on top-4 unnormalized features, and (3) training on top-4 normalized features\n",
    "\n",
    "* all features unnormalized\n",
    "    ```\n",
    "    The model performance for training set\n",
    "    --------------------------------------\n",
    "    RMSE is 0.6274385393991952\n",
    "    R2 score is 0.6013623755511879\n",
    "\n",
    "\n",
    "    The model performance for testing set\n",
    "    --------------------------------------\n",
    "    RMSE is 0.6279848916905705\n",
    "    R2 score is 0.6240293622075719\n",
    "    ```\n",
    "\n",
    "* top 4 unnormalized\n",
    "    ``` \n",
    "    The model performance for training set\n",
    "    --------------------------------------\n",
    "    RMSE is 0.671380395385047\n",
    "    R2 score is 0.5477404657858351\n",
    "\n",
    "\n",
    "    The model performance for testing set\n",
    "    --------------------------------------\n",
    "    RMSE is 0.7024800506206409\n",
    "    R2 score is 0.5129312505477825\n",
    "    ```\n",
    "\n",
    "* top 4 normalized\n",
    "    ```\n",
    "    The model performance for training set\n",
    "    --------------------------------------\n",
    "    RMSE is 0.6791210488108694\n",
    "    R2 score is 0.5350032082212628\n",
    "\n",
    "\n",
    "    The model performance for testing set\n",
    "    --------------------------------------\n",
    "    RMSE is 0.6739473406162616\n",
    "    R2 score is 0.5600876594338523\n",
    "    ```\n",
    "* observation training on top-4: \n",
    "    * training set:\n",
    "        * all features unnormalized data: RMSE $\\approx$ 0.62744, top-4 unnormalized data: RMSE $\\approx$ 0.67138, top-4 normalized data: RMSE $\\approx$ 0.67912, top-4 unnormalized data's RMSE seem to be highest, difference with lowest $\\approx$ 0.67912 - 0.62744 = 0.05168\n",
    "        * all features unnormalized data: R2 score $\\approx$ 0.60136, top-4 unnormalized data: R2 score $\\approx$ 0.54774, top-4 normalized data: R2 score $\\approx$ 0.53500, all features unnormalized data's R2 score seem to be highest, difference with lowest $\\approx$ 0.60136 - 0.53500 = 0.06636\n",
    "    * testing set:\n",
    "        * all features unnormalized data: RMSE $\\approx$ 0.62798, top-4 unnormalized data: RMSE $\\approx$ 0.70248, top-4 normalized data: RMSE $\\approx$ 0.67395, top-4 unnormalized data's RMSE seem to be highest, difference with lowest $\\approx$ 0.70248 - 0.62798 = 0.0745\n",
    "        * all features unnormalized data: R2 score $\\approx$ 0.62403, top-4 unnormalized data: R2 score $\\approx$ 0.51293, top-4 normalized data: R2 score $\\approx$ 0.56009, all features unnormalized data's R2 score seem to be highest, difference with lowest $\\approx$ 0.62403 - 0.51293 = 0.1111"
   ]
  }
 ],
 "metadata": {
  "kernelspec": {
   "display_name": "Python 3.10.7 64-bit",
   "language": "python",
   "name": "python3"
  },
  "language_info": {
   "codemirror_mode": {
    "name": "ipython",
    "version": 3
   },
   "file_extension": ".py",
   "mimetype": "text/x-python",
   "name": "python",
   "nbconvert_exporter": "python",
   "pygments_lexer": "ipython3",
   "version": "3.10.7"
  },
  "vscode": {
   "interpreter": {
    "hash": "08db28d5eb0c49dded8418f39112c5182545741fa4757240f7b057799e2856f7"
   }
  }
 },
 "nbformat": 4,
 "nbformat_minor": 4
}
